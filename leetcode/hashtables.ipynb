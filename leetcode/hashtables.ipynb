{
 "cells": [
  {
   "cell_type": "markdown",
   "id": "cd06a318-dc00-4ded-95ff-cb95bfe2b0dc",
   "metadata": {},
   "source": [
    "### 1. Two sum.\n",
    "Given an array of integers nums and an integer target, return indices of the two numbers such that they add up to target.\n",
    "\n",
    "You may assume that each input would have exactly one solution, and you may not use the same element twice.\n",
    "\n",
    "You can return the answer in any order.\n",
    "\n",
    "Leetcode: https://leetcode.com/problems/two-sum/description/<br>\n",
    "YouTube: https://www.youtube.com/watch?v=KLlXCFG5TnA"
   ]
  },
  {
   "cell_type": "code",
   "execution_count": 4,
   "id": "96af6b7b-c01d-4467-b9a2-72196ccd26db",
   "metadata": {},
   "outputs": [],
   "source": [
    "def two_sum(arr: list[int], target: int) -> list[int]:\n",
    "    storage = {}\n",
    "    for i in range(len(arr)):\n",
    "        diff = target - arr[i]\n",
    "        if diff in storage:\n",
    "            return [storage[diff], i]\n",
    "        storage[arr[i]] = i\n",
    "    return []\n",
    "\n",
    "nums = [2,7,11,15]\n",
    "target = 9\n",
    "assert two_sum(nums, target) == [0, 1]"
   ]
  },
  {
   "cell_type": "markdown",
   "id": "5ea723ed-4cd8-4216-9bd8-0978e6e669da",
   "metadata": {},
   "source": [
    "### 383. Ransom note.\n",
    "Given two strings ransomNote and magazine, return true if ransomNote can be constructed by using the letters from magazine and false otherwise.\n",
    "\n",
    "Each letter in magazine can only be used once in ransomNote.\n",
    "\n",
    "Leetcode: https://leetcode.com/problems/ransom-note/description/<br>\n",
    "YouTube: https://www.youtube.com/watch?v=i3bvxJyUB40 (not Neetcode)"
   ]
  },
  {
   "cell_type": "code",
   "execution_count": 17,
   "id": "f9e2b245-568b-4683-9055-bfb9904809db",
   "metadata": {},
   "outputs": [],
   "source": [
    "def can_construct(ransom_note: str, magazine: str) -> bool:\n",
    "    counter = {}\n",
    "    for ch in magazine:\n",
    "        counter[ch] = 1 + counter.get(ch, 0)\n",
    "    for ch in ransom_note:\n",
    "        if not counter.get(ch):\n",
    "            return False\n",
    "        counter[ch] -= 1\n",
    "    return True\n",
    "\n",
    "ransomNote = \"aa\"\n",
    "magazine = \"ab\"\n",
    "assert can_construct(ransomNote, magazine) == False\n",
    "\n",
    "ransomNote = \"aa\"\n",
    "magazine = \"aba\"\n",
    "assert can_construct(ransomNote, magazine) == True"
   ]
  }
 ],
 "metadata": {
  "kernelspec": {
   "display_name": "Python 3 (ipykernel)",
   "language": "python",
   "name": "python3"
  },
  "language_info": {
   "codemirror_mode": {
    "name": "ipython",
    "version": 3
   },
   "file_extension": ".py",
   "mimetype": "text/x-python",
   "name": "python",
   "nbconvert_exporter": "python",
   "pygments_lexer": "ipython3",
   "version": "3.11.6"
  }
 },
 "nbformat": 4,
 "nbformat_minor": 5
}
