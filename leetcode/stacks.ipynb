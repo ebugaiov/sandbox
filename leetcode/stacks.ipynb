{
 "cells": [
  {
   "cell_type": "markdown",
   "id": "00a7f137-daa9-462f-95f7-6ba4f1b4dd77",
   "metadata": {},
   "source": [
    "### 682. Baseball game.\n",
    "You are keeping the scores for a baseball game with strange rules. At the beginning of the game, you start with an empty record.\n",
    "\n",
    "You are given a list of strings operations, where operations[i] is the ith operation you must apply to the record and is one of the following:\n",
    "\n",
    "An integer x.\n",
    "Record a new score of x.\n",
    "'+'.\n",
    "Record a new score that is the sum of the previous two scores.\n",
    "'D'.\n",
    "Record a new score that is the double of the previous score.\n",
    "'C'.\n",
    "Invalidate the previous score, removing it from the record.\n",
    "Return the sum of all the scores on the record after applying all the operations.\n",
    "\n",
    "The test cases are generated such that the answer and all intermediate calculations fit in a 32-bit integer and that all operations are valid.\n",
    "\n",
    "Leetcode: https://leetcode.com/problems/baseball-game/description/<br>\n",
    "YouTube: https://www.youtube.com/watch?v=Id_tqGdsZQI"
   ]
  },
  {
   "cell_type": "code",
   "execution_count": 11,
   "id": "d548dcd8-83a5-4206-be4d-4b75d4ed98de",
   "metadata": {},
   "outputs": [],
   "source": [
    "def cal_points(operations: list[int]) -> int:\n",
    "    stack = []\n",
    "    for item in operations:\n",
    "        if item == '+':\n",
    "            stack.append(stack[-1] + stack[-2])\n",
    "        elif item == 'D':\n",
    "            stack.append(2 * stack[-1])\n",
    "        elif item == 'C':\n",
    "            stack.pop()\n",
    "        else:\n",
    "            stack.append(int(item))\n",
    "    return sum(stack)\n",
    "\n",
    "ops = [\"5\",\"2\",\"C\",\"D\",\"+\"]\n",
    "assert cal_points(ops) == 30"
   ]
  },
  {
   "cell_type": "markdown",
   "id": "9af4067a-a69b-4f0f-92b1-3868c7f7703b",
   "metadata": {},
   "source": [
    "### 20. Valid parentheses.\n",
    "Given a string s containing just the characters '(', ')', '{', '}', '[' and ']', determine if the input string is valid.\n",
    "\n",
    "An input string is valid if:\n",
    "\n",
    "Open brackets must be closed by the same type of brackets.\n",
    "Open brackets must be closed in the correct order.\n",
    "Every close bracket has a corresponding open bracket of the same type.\n",
    "\n",
    "Leetcode: https://leetcode.com/problems/valid-parentheses/description/<br>\n",
    "YouTube: https://www.youtube.com/watch?v=WTzjTskDFMg"
   ]
  },
  {
   "cell_type": "code",
   "execution_count": 16,
   "id": "be2b63d6-c258-4fc4-94bf-6ba0a96ab201",
   "metadata": {},
   "outputs": [],
   "source": [
    "def is_valid(s: str) -> bool:\n",
    "    stack = []\n",
    "    close_to_open = {')': '(', ']': '[', '}': '{'}\n",
    "    for ch in s:\n",
    "        if ch in close_to_open:\n",
    "            if stack and stack[-1] == close_to_open[ch]:\n",
    "                stack.pop()\n",
    "            else:\n",
    "                return False\n",
    "        else:\n",
    "            stack.append(c)\n",
    "    return True if not stack else False\n",
    "\n",
    "s = \"()[]{}\"\n",
    "assert is_valid(s) == True\n",
    "\n",
    "s = \"(]\"\n",
    "assert is_valid(s) == False"
   ]
  }
 ],
 "metadata": {
  "kernelspec": {
   "display_name": "Python 3 (ipykernel)",
   "language": "python",
   "name": "python3"
  },
  "language_info": {
   "codemirror_mode": {
    "name": "ipython",
    "version": 3
   },
   "file_extension": ".py",
   "mimetype": "text/x-python",
   "name": "python",
   "nbconvert_exporter": "python",
   "pygments_lexer": "ipython3",
   "version": "3.11.6"
  }
 },
 "nbformat": 4,
 "nbformat_minor": 5
}
