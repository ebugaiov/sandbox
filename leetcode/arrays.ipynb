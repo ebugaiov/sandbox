{
 "cells": [
  {
   "cell_type": "markdown",
   "metadata": {},
   "source": [
    "### 26. Remove dublicates from sorted array.\n",
    "Given an integer array nums sorted in non-decreasing order, remove the duplicates in-place such that each unique element appears only once. The relative order of the elements should be kept the same. Then return the number of unique elements in nums.\n",
    "\n",
    "Consider the number of unique elements of nums to be k, to get accepted, you need to do the following things:\n",
    "\n",
    "Change the array nums such that the first k elements of nums contain the unique elements in the order they were present in nums initially. The remaining elements of nums are not important as well as the size of nums.\n",
    "Return k."
   ]
  },
  {
   "cell_type": "code",
   "execution_count": 7,
   "metadata": {},
   "outputs": [
    {
     "name": "stdout",
     "output_type": "stream",
     "text": [
      "1.83 µs ± 152 ns per loop (mean ± std. dev. of 7 runs, 100,000 loops each)\n"
     ]
    }
   ],
   "source": [
    "%%timeit\n",
    "def remove_dublicates(arr: list[int]) -> int:\n",
    "    l, r = 1, 1\n",
    "    while r < len(arr):\n",
    "        if arr[r - 1] != arr[r]:\n",
    "            arr[l] = arr[r]\n",
    "            l += 1\n",
    "        r += 1\n",
    "    return l\n",
    "\n",
    "arr = [0,0,1,1,1,2,2,3,3,4]\n",
    "assert remove_dublicates(arr) == 5\n",
    "assert arr == [0, 1, 2, 3, 4, 2, 2, 3, 3, 4]"
   ]
  },
  {
   "cell_type": "code",
   "execution_count": 1,
   "metadata": {},
   "outputs": [
    {
     "name": "stdout",
     "output_type": "stream",
     "text": [
      "1.56 µs ± 166 ns per loop (mean ± std. dev. of 7 runs, 100,000 loops each)\n"
     ]
    }
   ],
   "source": [
    "%%timeit\n",
    "def remove_dublicates(arr: list[int]) -> int:\n",
    "    l = 1\n",
    "    for r in range(1, len(arr)):\n",
    "        if arr[r] != arr[r - 1]:\n",
    "            arr[l] = arr[r]\n",
    "            l += 1\n",
    "    return l\n",
    "\n",
    "arr = [0,0,1,1,1,2,2,3,3,4]\n",
    "assert remove_dublicates(arr) == 5\n",
    "assert arr == [0, 1, 2, 3, 4, 2, 2, 3, 3, 4]"
   ]
  },
  {
   "cell_type": "markdown",
   "metadata": {},
   "source": [
    "### 27. Remove element.\n",
    "Given an integer array nums and an integer val, remove all occurrences of val in nums in-place. The order of the elements may be changed. Then return the number of elements in nums which are not equal to val.\n",
    "\n",
    "Consider the number of elements in nums which are not equal to val be k, to get accepted, you need to do the following things:\n",
    "\n",
    "Change the array nums such that the first k elements of nums contain the elements which are not equal to val. The remaining elements of nums are not important as well as the size of nums.\n",
    "Return k."
   ]
  },
  {
   "cell_type": "code",
   "execution_count": 2,
   "metadata": {},
   "outputs": [
    {
     "name": "stdout",
     "output_type": "stream",
     "text": [
      "[0, 1, 3, 0, 4, 0, 4, 2]\n"
     ]
    }
   ],
   "source": [
    "def remove_element(arr: list[int], val: int) -> list[int]:\n",
    "    k = 0\n",
    "    for i in range(len(arr)):\n",
    "        if arr[i] != val:\n",
    "            arr[k] = arr[i]\n",
    "            k += 1\n",
    "    return k\n",
    "\n",
    "nums = [0,1,2,2,3,0,4,2]\n",
    "val = 2\n",
    "assert remove_element(nums, val) == 5\n",
    "print(nums)"
   ]
  },
  {
   "cell_type": "markdown",
   "metadata": {},
   "source": [
    "### 1470. Shuffle the array.\n",
    "Given the array nums consisting of 2n elements in the form [x1,x2,...,xn,y1,y2,...,yn].\n",
    "\n",
    "Return the array in the form [x1,y1,x2,y2,...,xn,yn]."
   ]
  },
  {
   "cell_type": "code",
   "execution_count": 1,
   "metadata": {},
   "outputs": [],
   "source": [
    "def shuffle(arr: list[int], n: int) -> list[int]:\n",
    "    res = []\n",
    "    for i in range(n):\n",
    "        res.append(arr[i])\n",
    "        res.append(arr[i + n])\n",
    "    return res\n",
    "\n",
    "nums = [2,5,1,3,4,7]\n",
    "n = 3\n",
    "assert shuffle(nums, n) == [2,3,5,4,1,7]"
   ]
  },
  {
   "cell_type": "markdown",
   "metadata": {},
   "source": []
  }
 ],
 "metadata": {
  "kernelspec": {
   "display_name": "Python 3",
   "language": "python",
   "name": "python3"
  },
  "language_info": {
   "codemirror_mode": {
    "name": "ipython",
    "version": 3
   },
   "file_extension": ".py",
   "mimetype": "text/x-python",
   "name": "python",
   "nbconvert_exporter": "python",
   "pygments_lexer": "ipython3",
   "version": "3.10.13"
  }
 },
 "nbformat": 4,
 "nbformat_minor": 2
}
