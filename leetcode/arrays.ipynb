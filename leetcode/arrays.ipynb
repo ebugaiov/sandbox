{
 "cells": [
  {
   "cell_type": "markdown",
   "metadata": {},
   "source": [
    "## 26. Remove dublicates from sorted array.\n",
    "Given an integer array nums sorted in non-decreasing order, remove the duplicates in-place such that each unique element appears only once. The relative order of the elements should be kept the same. Then return the number of unique elements in nums.\n",
    "\n",
    "Consider the number of unique elements of nums to be k, to get accepted, you need to do the following things:\n",
    "\n",
    "Change the array nums such that the first k elements of nums contain the unique elements in the order they were present in nums initially. The remaining elements of nums are not important as well as the size of nums.\n",
    "Return k."
   ]
  },
  {
   "cell_type": "code",
   "execution_count": 7,
   "metadata": {},
   "outputs": [
    {
     "name": "stdout",
     "output_type": "stream",
     "text": [
      "1.83 µs ± 152 ns per loop (mean ± std. dev. of 7 runs, 100,000 loops each)\n"
     ]
    }
   ],
   "source": [
    "%%timeit\n",
    "def remove_dublicates(arr: list[int]) -> int:\n",
    "    l, r = 1, 1\n",
    "    while r < len(arr):\n",
    "        if arr[r - 1] != arr[r]:\n",
    "            arr[l] = arr[r]\n",
    "            l += 1\n",
    "        r += 1\n",
    "    return l\n",
    "\n",
    "arr = [0,0,1,1,1,2,2,3,3,4]\n",
    "assert remove_dublicates(arr) == 5\n",
    "assert arr == [0, 1, 2, 3, 4, 2, 2, 3, 3, 4]"
   ]
  },
  {
   "cell_type": "code",
   "execution_count": 4,
   "metadata": {},
   "outputs": [
    {
     "name": "stdout",
     "output_type": "stream",
     "text": [
      "1.49 µs ± 97.8 ns per loop (mean ± std. dev. of 7 runs, 1,000,000 loops each)\n"
     ]
    }
   ],
   "source": [
    "%%timeit\n",
    "def remove_dublicates(arr: list[int]) -> int:\n",
    "    l = 1\n",
    "    for r in range(1, len(arr)):\n",
    "        if arr[r] != arr[r - 1]:\n",
    "            arr[l] = arr[r]\n",
    "            l += 1\n",
    "    return l\n",
    "\n",
    "arr = [0,0,1,1,1,2,2,3,3,4]\n",
    "assert remove_dublicates(arr) == 5\n",
    "assert arr == [0, 1, 2, 3, 4, 2, 2, 3, 3, 4]"
   ]
  }
 ],
 "metadata": {
  "kernelspec": {
   "display_name": "Python 3",
   "language": "python",
   "name": "python3"
  },
  "language_info": {
   "codemirror_mode": {
    "name": "ipython",
    "version": 3
   },
   "file_extension": ".py",
   "mimetype": "text/x-python",
   "name": "python",
   "nbconvert_exporter": "python",
   "pygments_lexer": "ipython3",
   "version": "3.10.13"
  }
 },
 "nbformat": 4,
 "nbformat_minor": 2
}
