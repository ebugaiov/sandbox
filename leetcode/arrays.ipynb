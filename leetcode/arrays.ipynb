{
 "cells": [
  {
   "cell_type": "markdown",
   "metadata": {},
   "source": [
    "### 26. Remove dublicates from sorted array.\n",
    "Given an integer array nums sorted in non-decreasing order, remove the duplicates in-place such that each unique element appears only once. The relative order of the elements should be kept the same. Then return the number of unique elements in nums.\n",
    "\n",
    "Consider the number of unique elements of nums to be k, to get accepted, you need to do the following things:\n",
    "\n",
    "Change the array nums such that the first k elements of nums contain the unique elements in the order they were present in nums initially. The remaining elements of nums are not important as well as the size of nums.\n",
    "Return k.\n",
    "\n",
    "URL: https://www.youtube.com/watch?v=DEJAZBq0FDA"
   ]
  },
  {
   "cell_type": "code",
   "execution_count": 1,
   "metadata": {},
   "outputs": [
    {
     "name": "stdout",
     "output_type": "stream",
     "text": [
      "6.13 µs ± 2.06 µs per loop (mean ± std. dev. of 7 runs, 100,000 loops each)\n"
     ]
    }
   ],
   "source": [
    "%%timeit\n",
    "def remove_dublicates(arr: list[int]) -> int:\n",
    "    l, r = 1, 1\n",
    "    while r < len(arr):\n",
    "        if arr[r - 1] != arr[r]:\n",
    "            arr[l] = arr[r]\n",
    "            l += 1\n",
    "        r += 1\n",
    "    return l\n",
    "\n",
    "arr = [0,0,1,1,1,2,2,3,3,4]\n",
    "assert remove_dublicates(arr) == 5\n",
    "assert arr == [0, 1, 2, 3, 4, 2, 2, 3, 3, 4]"
   ]
  },
  {
   "cell_type": "code",
   "execution_count": 1,
   "metadata": {},
   "outputs": [
    {
     "name": "stdout",
     "output_type": "stream",
     "text": [
      "1.56 µs ± 166 ns per loop (mean ± std. dev. of 7 runs, 100,000 loops each)\n"
     ]
    }
   ],
   "source": [
    "%%timeit\n",
    "def remove_dublicates(arr: list[int]) -> int:\n",
    "    l = 1\n",
    "    for r in range(1, len(arr)):\n",
    "        if arr[r] != arr[r - 1]:\n",
    "            arr[l] = arr[r]\n",
    "            l += 1\n",
    "    return l\n",
    "\n",
    "arr = [0,0,1,1,1,2,2,3,3,4]\n",
    "assert remove_dublicates(arr) == 5\n",
    "assert arr == [0, 1, 2, 3, 4, 2, 2, 3, 3, 4]"
   ]
  },
  {
   "cell_type": "markdown",
   "metadata": {},
   "source": [
    "### 27. Remove element.\n",
    "Given an integer array nums and an integer val, remove all occurrences of val in nums in-place. The order of the elements may be changed. Then return the number of elements in nums which are not equal to val.\n",
    "\n",
    "Consider the number of elements in nums which are not equal to val be k, to get accepted, you need to do the following things:\n",
    "\n",
    "Change the array nums such that the first k elements of nums contain the elements which are not equal to val. The remaining elements of nums are not important as well as the size of nums.\n",
    "Return k.\n",
    "\n",
    "URL: https://www.youtube.com/watch?v=Pcd1ii9P9ZI"
   ]
  },
  {
   "cell_type": "code",
   "execution_count": 2,
   "metadata": {},
   "outputs": [
    {
     "name": "stdout",
     "output_type": "stream",
     "text": [
      "[0, 1, 3, 0, 4, 0, 4, 2]\n"
     ]
    }
   ],
   "source": [
    "def remove_element(arr: list[int], val: int) -> list[int]:\n",
    "    k = 0\n",
    "    for i in range(len(arr)):\n",
    "        if arr[i] != val:\n",
    "            arr[k] = arr[i]\n",
    "            k += 1\n",
    "    return k\n",
    "\n",
    "nums = [0,1,2,2,3,0,4,2]\n",
    "val = 2\n",
    "assert remove_element(nums, val) == 5\n",
    "print(nums)"
   ]
  },
  {
   "cell_type": "markdown",
   "metadata": {},
   "source": [
    "### 1470. Shuffle the array.\n",
    "Given the array nums consisting of 2n elements in the form [x1,x2,...,xn,y1,y2,...,yn].\n",
    "\n",
    "Return the array in the form [x1,y1,x2,y2,...,xn,yn]."
   ]
  },
  {
   "cell_type": "code",
   "execution_count": 1,
   "metadata": {},
   "outputs": [],
   "source": [
    "def shuffle(arr: list[int], n: int) -> list[int]:\n",
    "    res = []\n",
    "    for i in range(n):\n",
    "        res.append(arr[i])\n",
    "        res.append(arr[i + n])\n",
    "    return res\n",
    "\n",
    "nums = [2,5,1,3,4,7]\n",
    "n = 3\n",
    "assert shuffle(nums, n) == [2,3,5,4,1,7]"
   ]
  },
  {
   "cell_type": "markdown",
   "metadata": {},
   "source": [
    "### 1929. Concatenation of array.\n",
    "Given an integer array nums of length n, you want to create an array ans of length 2n where ans[i] == nums[i] and ans[i + n] == nums[i] for 0 <= i < n (0-indexed).\n",
    "\n",
    "Specifically, ans is the concatenation of two nums arrays.\n",
    "\n",
    "Return the array ans.\n",
    "\n",
    "URL: https://www.youtube.com/watch?v=68isPRHgcFQ"
   ]
  },
  {
   "cell_type": "code",
   "execution_count": 4,
   "metadata": {},
   "outputs": [
    {
     "name": "stdout",
     "output_type": "stream",
     "text": [
      "1.2 µs ± 48.3 ns per loop (mean ± std. dev. of 7 runs, 1,000,000 loops each)\n"
     ]
    }
   ],
   "source": [
    "%%timeit\n",
    "def get_concatenation(arr: list[int]) -> list[int]:\n",
    "    n = len(arr)\n",
    "    res = [0] * 2 * n\n",
    "    for i in range(n):\n",
    "        res[i], res[i + n] = arr[i], arr[i]\n",
    "    return res\n",
    "\n",
    "\n",
    "nums = [1,2,1]\n",
    "assert get_concatenation(nums) == [1,2,1,1,2,1]"
   ]
  },
  {
   "cell_type": "code",
   "execution_count": 3,
   "metadata": {},
   "outputs": [
    {
     "name": "stdout",
     "output_type": "stream",
     "text": [
      "1.16 µs ± 103 ns per loop (mean ± std. dev. of 7 runs, 1,000,000 loops each)\n"
     ]
    }
   ],
   "source": [
    "%%timeit\n",
    "def get_concatenation(arr: list[int]) -> list[int]:\n",
    "    res = []\n",
    "    for i in range(2):\n",
    "        for item in arr:\n",
    "            res.append(item)\n",
    "    return res\n",
    "\n",
    "nums = [1,2,1]\n",
    "assert get_concatenation(nums) == [1,2,1,1,2,1]"
   ]
  },
  {
   "cell_type": "markdown",
   "metadata": {},
   "source": [
    "### 1. Two sum.\n",
    "Given an array of integers nums and an integer target, return indices of the two numbers such that they add up to target.\n",
    "\n",
    "You may assume that each input would have exactly one solution, and you may not use the same element twice.\n",
    "\n",
    "You can return the answer in any order.\n",
    "\n",
    "URL: https://www.youtube.com/watch?v=KLlXCFG5TnA"
   ]
  },
  {
   "cell_type": "code",
   "execution_count": 10,
   "metadata": {},
   "outputs": [
    {
     "name": "stdout",
     "output_type": "stream",
     "text": [
      "1.15 µs ± 38.2 ns per loop (mean ± std. dev. of 7 runs, 1,000,000 loops each)\n"
     ]
    }
   ],
   "source": [
    "%%timeit\n",
    "def two_sum(arr: list[int], target: int) -> list[int]:\n",
    "    for i in range(len(arr)):\n",
    "        for j in range(i + 1, len(arr)):\n",
    "            if arr[i] + arr[j] == target:\n",
    "                return [i, j]\n",
    "    return -1\n",
    "\n",
    "nums = [2,7,11,15]\n",
    "target = 9\n",
    "assert two_sum(nums, target) in ([0,1], [1, 0])"
   ]
  },
  {
   "cell_type": "code",
   "execution_count": 1,
   "metadata": {},
   "outputs": [
    {
     "name": "stdout",
     "output_type": "stream",
     "text": [
      "1.18 µs ± 74.2 ns per loop (mean ± std. dev. of 7 runs, 1,000,000 loops each)\n"
     ]
    }
   ],
   "source": [
    "%%timeit\n",
    "def two_sum(arr: list[int], target: int) -> list[int]:\n",
    "    storage = {}\n",
    "    for i, n in enumerate(arr):\n",
    "        diff = target - n\n",
    "        if diff in storage:\n",
    "            return [storage[diff], i]\n",
    "        storage[n] = i\n",
    "\n",
    "\n",
    "nums = [2,7,11,15]\n",
    "target = 9\n",
    "assert two_sum(nums, target) in ([0,1], [1, 0])"
   ]
  },
  {
   "cell_type": "markdown",
   "metadata": {},
   "source": [
    "## 121. Best time to buy and sell stock.\n",
    "You are given an array prices where prices[i] is the price of a given stock on the ith day.\n",
    "\n",
    "You want to maximize your profit by choosing a single day to buy one stock and choosing a different day in the future to sell that stock.\n",
    "\n",
    "Return the maximum profit you can achieve from this transaction. If you cannot achieve any profit, return 0.\n",
    "\n",
    "URL: https://www.youtube.com/watch?v=1pkOgXD63yU"
   ]
  },
  {
   "cell_type": "code",
   "execution_count": 1,
   "metadata": {},
   "outputs": [],
   "source": [
    "def max_profit(prices: list[int]) -> int:\n",
    "    profit = 0\n",
    "    for i in range(len(prices)):\n",
    "        for j in range(i, len(prices)):\n",
    "            current_profit = prices[j] - prices[i]\n",
    "            if current_profit > profit:\n",
    "                profit = current_profit\n",
    "    return profit\n",
    "\n",
    "\n",
    "prices = [7,1,5,3,6,4]\n",
    "assert max_profit(prices) == 5"
   ]
  },
  {
   "cell_type": "code",
   "execution_count": 6,
   "metadata": {},
   "outputs": [],
   "source": [
    "def max_profit(prices: list[int]) -> int:\n",
    "    res = 0\n",
    "    l, r = 0, 1\n",
    "    while r < len(prices):\n",
    "        if prices[l] < prices[r]:\n",
    "            profit = prices[r] - prices[l]\n",
    "            res = max(res, profit)\n",
    "        else:\n",
    "            l += r  # !\n",
    "        r += 1\n",
    "    return res\n",
    "\n",
    "prices = [7,1,5,3,6,4]\n",
    "assert max_profit(prices) == 5"
   ]
  },
  {
   "cell_type": "markdown",
   "metadata": {},
   "source": [
    "### 238. Product of array except self.\n",
    "Given an integer array nums, return an array answer such that answer[i] is equal to the product of all the elements of nums except nums[i].\n",
    "\n",
    "The product of any prefix or suffix of nums is guaranteed to fit in a 32-bit integer.\n",
    "\n",
    "You must write an algorithm that runs in O(n) time and without using the division operation.\n",
    "\n",
    "URL: https://www.youtube.com/watch?v=bNvIQI2wAjk"
   ]
  },
  {
   "cell_type": "code",
   "execution_count": 1,
   "metadata": {},
   "outputs": [],
   "source": [
    "def product_except_self(arr: list[int]) -> list[int]:\n",
    "    res = [1] * len(arr)\n",
    "    prefix = 1\n",
    "    for i in range(len(arr)):\n",
    "        res[i] = prefix\n",
    "        prefix *= arr[i]\n",
    "    postfix = 1\n",
    "    for i in range(len(arr) - 1, -1, -1):\n",
    "        res[i] *= postfix\n",
    "        postfix *= arr[i]\n",
    "    return res\n",
    "\n",
    "nums = [1,2,3,4]\n",
    "assert product_except_self(nums) == [24,12,8,6]"
   ]
  },
  {
   "cell_type": "markdown",
   "metadata": {},
   "source": [
    "### 53. Maximum subarray.\n",
    "Given an integer array nums, find the subarray with the largest sum, and return its sum.\n",
    "\n",
    "Leetcode: https://leetcode.com/problems/maximum-subarray/description/ <br>\n",
    "YouTube: https://www.youtube.com/watch?v=5WZl3MMT0Eg"
   ]
  },
  {
   "cell_type": "code",
   "execution_count": 2,
   "metadata": {},
   "outputs": [],
   "source": [
    "def max_subarray(arr: list[int]) -> int:\n",
    "    max_sum = arr[0]\n",
    "    current_sum = 0\n",
    "    for item in arr:\n",
    "        if current_sum < 0:\n",
    "            current_sum = 0\n",
    "        current_sum += item\n",
    "        max_sum = max(max_sum, current_sum)\n",
    "    return max_sum\n",
    "\n",
    "\n",
    "nums = [-2,1,-3,4,-1,2,1,-5,4]\n",
    "assert max_subarray(nums) == 6"
   ]
  },
  {
   "cell_type": "markdown",
   "metadata": {},
   "source": []
  }
 ],
 "metadata": {
  "kernelspec": {
   "display_name": "Python 3 (ipykernel)",
   "language": "python",
   "name": "python3"
  },
  "language_info": {
   "codemirror_mode": {
    "name": "ipython",
    "version": 3
   },
   "file_extension": ".py",
   "mimetype": "text/x-python",
   "name": "python",
   "nbconvert_exporter": "python",
   "pygments_lexer": "ipython3",
   "version": "3.10.13"
  }
 },
 "nbformat": 4,
 "nbformat_minor": 2
}
