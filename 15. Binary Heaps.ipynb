{
 "cells": [
  {
   "cell_type": "code",
   "execution_count": 1,
   "id": "initial_id",
   "metadata": {
    "collapsed": true,
    "ExecuteTime": {
     "end_time": "2024-06-09T19:19:00.892220Z",
     "start_time": "2024-06-09T19:19:00.885707Z"
    }
   },
   "outputs": [
    {
     "name": "stdout",
     "output_type": "stream",
     "text": [
      "['c', 'e', 'd', 'h', 'r', 't', 'l']\n"
     ]
    }
   ],
   "source": [
    "from heapq import heapify\n",
    "\n",
    "arr = ['r', 'c', 't', 'h', 'e', 'd', 'l']\n",
    "heapify(arr)\n",
    "\n",
    "print(arr)"
   ]
  },
  {
   "cell_type": "code",
   "outputs": [],
   "source": [
    "from heapq import heapify, heappop, heappush\n",
    "\n",
    "def find_min_cost(ropes: list[int]) -> int:\n",
    "    \"\"\"\n",
    "    Always summirize min items and then add sum back to list\n",
    "    [5, 4, 2, 8] -> 4 + 2 = 6\n",
    "    [5, 8, 6] -> 5 + 6 = 11\n",
    "    [8, 11] -> 8 + 11 = 19\n",
    "    6 + 11 + 19 = 36 -> min cost\n",
    "    :param ropes: [int]\n",
    "    :return: int\n",
    "    \"\"\"\n",
    "    heapify(ropes)\n",
    "    cost = 0\n",
    "    while len(ropes) > 1:\n",
    "        summa = heappop(ropes) + heappop(ropes)\n",
    "        cost += summa\n",
    "        heappush(ropes, summa)\n",
    "    return cost\n",
    "\n",
    "arr = [5, 4, 2, 8]\n",
    "assert find_min_cost(arr) == 36"
   ],
   "metadata": {
    "collapsed": false,
    "ExecuteTime": {
     "end_time": "2024-06-09T19:31:58.380746Z",
     "start_time": "2024-06-09T19:31:58.361123Z"
    }
   },
   "id": "243cb984f427a9a2",
   "execution_count": 2
  }
 ],
 "metadata": {
  "kernelspec": {
   "display_name": "Python 3",
   "language": "python",
   "name": "python3"
  },
  "language_info": {
   "codemirror_mode": {
    "name": "ipython",
    "version": 2
   },
   "file_extension": ".py",
   "mimetype": "text/x-python",
   "name": "python",
   "nbconvert_exporter": "python",
   "pygments_lexer": "ipython2",
   "version": "2.7.6"
  }
 },
 "nbformat": 4,
 "nbformat_minor": 5
}
