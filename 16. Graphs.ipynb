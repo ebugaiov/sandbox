{
 "cells": [
  {
   "cell_type": "code",
   "execution_count": 1,
   "id": "initial_id",
   "metadata": {
    "collapsed": true,
    "ExecuteTime": {
     "end_time": "2024-06-10T14:01:33.051382Z",
     "start_time": "2024-06-10T14:01:33.047986Z"
    }
   },
   "outputs": [],
   "source": [
    "class Vertex:\n",
    "    def __init__(self, key):\n",
    "        self.key = key\n",
    "        self.connections = {}\n",
    "        \n",
    "    def add_adj(self, vertex, weight=0):\n",
    "        self.connections[vertex] = weight\n",
    "        \n",
    "    def get_connections(self, vertex):\n",
    "        return self.connections[vertex]\n",
    "    \n",
    "\n",
    "class Graph:\n",
    "    def __init__(self):\n",
    "        self.vertices = {}\n",
    "        \n",
    "    def add_vertex(self, key):\n",
    "        new_vertex = Vertex(key)\n",
    "        self.vertices[key] = new_vertex\n",
    "        \n",
    "    def get_vertex(self, key):\n",
    "        if key in self.vertices:\n",
    "            return self.vertices[key]\n",
    "        \n",
    "    def add_edge(self, f, t, weight=0):\n",
    "        if f not in self.vertices:\n",
    "            self.add_vertex(f)\n",
    "        if t not in self.vertices:\n",
    "            self.add_vertex(t)\n",
    "        self.vertices[f].add_adj(self.vertices[t], weight)\n",
    "        "
   ]
  },
  {
   "cell_type": "code",
   "outputs": [
    {
     "name": "stdout",
     "output_type": "stream",
     "text": [
      "Shortest distances from node A:\n",
      "Distance to A: 0\n",
      "Distance to B: 1\n",
      "Distance to C: 3\n",
      "Distance to D: 6\n"
     ]
    }
   ],
   "source": [
    "import heapq\n",
    "\n",
    "def dijkstra(graph, start):\n",
    "    # Priority queue to hold (distance, node)\n",
    "    queue = [(0, start)]\n",
    "    # Distances dictionary\n",
    "    distances = {node: float('infinity') for node in graph}\n",
    "    distances[start] = 0\n",
    "    # Set of visited nodes\n",
    "    visited = set()\n",
    "    \n",
    "    while queue:\n",
    "        current_distance, current_node = heapq.heappop(queue)\n",
    "        \n",
    "        if current_node in visited:\n",
    "            continue\n",
    "        \n",
    "        visited.add(current_node)\n",
    "        \n",
    "        for neighbor, weight in graph[current_node].items():\n",
    "            distance = current_distance + weight\n",
    "            \n",
    "            if distance < distances[neighbor]:\n",
    "                distances[neighbor] = distance\n",
    "                heapq.heappush(queue, (distance, neighbor))\n",
    "    \n",
    "    return distances\n",
    "\n",
    "# Example graph\n",
    "graph = {\n",
    "    'A': {'B': 1, 'C': 4},\n",
    "    'B': {'A': 1, 'C': 2, 'D': 6},\n",
    "    'C': {'A': 4, 'B': 2, 'D': 3},\n",
    "    'D': {'B': 6, 'C': 3}\n",
    "}\n",
    "\n",
    "# Running Dijkstra's algorithm\n",
    "start_node = 'A'\n",
    "distances = dijkstra(graph, start_node)\n",
    "\n",
    "print(f\"Shortest distances from node {start_node}:\")\n",
    "for node, distance in distances.items():\n",
    "    print(f\"Distance to {node}: {distance}\")\n"
   ],
   "metadata": {
    "collapsed": false,
    "ExecuteTime": {
     "end_time": "2024-06-11T16:15:56.388905Z",
     "start_time": "2024-06-11T16:15:56.387989Z"
    }
   },
   "id": "bbbd2a4f40a02400",
   "execution_count": 2
  }
 ],
 "metadata": {
  "kernelspec": {
   "display_name": "Python 3",
   "language": "python",
   "name": "python3"
  },
  "language_info": {
   "codemirror_mode": {
    "name": "ipython",
    "version": 2
   },
   "file_extension": ".py",
   "mimetype": "text/x-python",
   "name": "python",
   "nbconvert_exporter": "python",
   "pygments_lexer": "ipython2",
   "version": "2.7.6"
  }
 },
 "nbformat": 4,
 "nbformat_minor": 5
}
