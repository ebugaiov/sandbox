{
 "cells": [
  {
   "cell_type": "code",
   "execution_count": 3,
   "id": "initial_id",
   "metadata": {
    "collapsed": true,
    "ExecuteTime": {
     "end_time": "2024-05-28T13:43:22.828098Z",
     "start_time": "2024-05-28T13:43:22.822452Z"
    }
   },
   "outputs": [],
   "source": [
    "class Node:\n",
    "    def __init__(self, data):\n",
    "        self.data = data\n",
    "        self.next = None\n",
    "        \n",
    "class Queue:\n",
    "    def __init__(self):\n",
    "        self.front = None\n",
    "        self.rear = None\n",
    "        self._size = 0\n",
    "        \n",
    "    def enqueue(self, data):\n",
    "        self._size += 1\n",
    "        node = Node(data)\n",
    "        if self.rear is None:\n",
    "            self.rear = node\n",
    "            self.front = node\n",
    "        else:\n",
    "            self.rear.next = node\n",
    "            self.rear = node\n",
    "            \n",
    "    def dequeue(self):\n",
    "        if self.front is None:\n",
    "            raise Exception(\"Queue is empty\")\n",
    "        self._size -= 1\n",
    "        temp = self.front\n",
    "        self.front = self.front.next\n",
    "        if self.front is None:\n",
    "            self.rear = None\n",
    "        return temp.data\n",
    "    \n",
    "    def size(self):\n",
    "        return self._size"
   ]
  },
  {
   "cell_type": "code",
   "outputs": [
    {
     "name": "stdout",
     "output_type": "stream",
     "text": [
      "3\n",
      "1\n",
      "2\n",
      "3\n"
     ]
    }
   ],
   "source": [
    "queue = Queue()\n",
    "queue.enqueue(1)\n",
    "queue.enqueue(2)\n",
    "queue.enqueue(3)\n",
    "print(queue.size())\n",
    "for _ in range(queue.size()):\n",
    "    print(queue.dequeue())"
   ],
   "metadata": {
    "collapsed": false,
    "ExecuteTime": {
     "end_time": "2024-05-28T13:43:24.203592Z",
     "start_time": "2024-05-28T13:43:24.195357Z"
    }
   },
   "id": "78929fbb56e31511",
   "execution_count": 4
  },
  {
   "cell_type": "markdown",
   "source": [
    "### Create a Queue using Two Stacks"
   ],
   "metadata": {
    "collapsed": false
   },
   "id": "981b3cca95ee8920"
  },
  {
   "cell_type": "code",
   "outputs": [],
   "source": [
    "class Queue2Stack:\n",
    "    def __init__(self):\n",
    "        self.s1 = []\n",
    "        self.s2 = []\n",
    "        \n",
    "    def enqueue(self, data):\n",
    "        while len(self.s1) != 0:\n",
    "            self.s2.append(self.s1.pop())\n",
    "        self.s1.append(data)\n",
    "        while len(self.s2) != 0:\n",
    "            self.s1.append(self.s2.pop())\n",
    "            \n",
    "    def dequeue(self):\n",
    "        if len(self.s1) == 0:\n",
    "            raise Exception('Queue is empty')\n",
    "        return self.s1.pop()"
   ],
   "metadata": {
    "collapsed": false
   },
   "id": "cd33a33a0ba1ae70"
  }
 ],
 "metadata": {
  "kernelspec": {
   "display_name": "Python 3",
   "language": "python",
   "name": "python3"
  },
  "language_info": {
   "codemirror_mode": {
    "name": "ipython",
    "version": 2
   },
   "file_extension": ".py",
   "mimetype": "text/x-python",
   "name": "python",
   "nbconvert_exporter": "python",
   "pygments_lexer": "ipython2",
   "version": "2.7.6"
  }
 },
 "nbformat": 4,
 "nbformat_minor": 5
}
