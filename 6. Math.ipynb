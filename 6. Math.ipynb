{
 "cells": [
  {
   "cell_type": "code",
   "execution_count": 1,
   "metadata": {},
   "outputs": [],
   "source": [
    "def is_even(num: int) -> bool:\n",
    "    if not num & 1:\n",
    "        return True\n",
    "    return False\n",
    "\n",
    "\n",
    "assert is_even(7) == False\n",
    "assert is_even(6) == True"
   ]
  },
  {
   "cell_type": "code",
   "execution_count": 2,
   "metadata": {},
   "outputs": [],
   "source": [
    "def is_power_of_2(num: int) -> bool:\n",
    "    if num & (num - 1) == 0:\n",
    "        return True\n",
    "    return False\n",
    "\n",
    "assert is_power_of_2(7) == False\n",
    "assert is_power_of_2(8) == True"
   ]
  },
  {
   "cell_type": "code",
   "execution_count": 3,
   "metadata": {},
   "outputs": [
    {
     "name": "stdout",
     "output_type": "stream",
     "text": [
      "Fizz\n",
      "Buzz\n",
      "Fizz\n",
      "Fizz\n",
      "Buzz\n",
      "Fizz\n",
      "FizzBuzz\n"
     ]
    }
   ],
   "source": [
    "def fizz_buzz(num: int) -> None:\n",
    "    for i in range(1, num + 1):\n",
    "        if i % 3 == 0 and i % 5 == 0:\n",
    "            print('FizzBuzz')\n",
    "        elif i % 3 == 0:\n",
    "            print('Fizz')\n",
    "        elif i % 5 == 0:\n",
    "            print('Buzz')\n",
    "\n",
    "fizz_buzz(15)"
   ]
  },
  {
   "cell_type": "code",
   "execution_count": 5,
   "metadata": {},
   "outputs": [],
   "source": [
    "def gcf(num1, num2):\n",
    "    if num1 < 0 or num2 < 0:\n",
    "        raise('Must be positive')\n",
    "    if num1 == 0:\n",
    "        return num2\n",
    "    if num2 == 0:\n",
    "        return num1\n",
    "    smaller = num1 if num1 < num2 else num2\n",
    "    for i in range(1, smaller + 1):\n",
    "        if num1 % i == 0 and num2 % i == 0:\n",
    "            gcf = i\n",
    "    return gcf\n",
    "\n",
    "assert gcf(30, 10) == 10\n"
   ]
  },
  {
   "cell_type": "code",
   "execution_count": 6,
   "metadata": {},
   "outputs": [],
   "source": [
    "def gcf_euc(num1: int, num2: int) -> int:\n",
    "    if num2 == 0:\n",
    "        num1, num2 = num2, num1\n",
    "    while num2 != 0:\n",
    "        num1, num2 = num2, num1 % num2\n",
    "    return num1\n",
    "\n",
    "assert gcf_euc(15, 5) == 5"
   ]
  },
  {
   "cell_type": "code",
   "execution_count": 9,
   "metadata": {},
   "outputs": [],
   "source": [
    "import math\n",
    "\n",
    "def is_prime(num: int) -> bool:\n",
    "    for i in range(2, int(math.sqrt(num))):\n",
    "        if num % i == 0:\n",
    "            return False\n",
    "    return True\n",
    "\n",
    "assert is_prime(11) == True\n",
    "assert is_prime(20) == False"
   ]
  }
 ],
 "metadata": {
  "kernelspec": {
   "display_name": "Python 3",
   "language": "python",
   "name": "python3"
  },
  "language_info": {
   "codemirror_mode": {
    "name": "ipython",
    "version": 3
   },
   "file_extension": ".py",
   "mimetype": "text/x-python",
   "name": "python",
   "nbconvert_exporter": "python",
   "pygments_lexer": "ipython3",
   "version": "3.10.13"
  }
 },
 "nbformat": 4,
 "nbformat_minor": 2
}
