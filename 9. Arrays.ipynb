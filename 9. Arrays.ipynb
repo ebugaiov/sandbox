{
 "cells": [
  {
   "cell_type": "code",
   "execution_count": 1,
   "metadata": {},
   "outputs": [],
   "source": [
    "def move_zeros(arr: list[int]) -> list[int]:\n",
    "    zero_index = 0\n",
    "    for index, n in enumerate(arr):\n",
    "        if n != 0:\n",
    "            arr[zero_index] = n\n",
    "            if zero_index != index:\n",
    "                arr[index] = 0\n",
    "            zero_index += 1\n",
    "    return arr\n",
    "\n",
    "assert move_zeros([8, 0, 3, 0, 12]) == [8, 3, 12, 0, 0]"
   ]
  },
  {
   "cell_type": "code",
   "execution_count": 1,
   "metadata": {},
   "outputs": [],
   "source": [
    "from typing import Optional\n",
    "\n",
    "def return_dubs(arr: list[str]) -> Optional[list[str]]:\n",
    "    dubs = []\n",
    "    temp_set = set()\n",
    "    for item in arr:\n",
    "        l1 = len(temp_set)\n",
    "        temp_set.add(item)\n",
    "        l2 = len(temp_set)\n",
    "        if l1 == l2:\n",
    "            dubs.append(item)\n",
    "    return dubs\n",
    "\n",
    "arr = ['1', '2', '3', '2']\n",
    "assert return_dubs(arr) == ['2']"
   ]
  },
  {
   "cell_type": "code",
   "execution_count": 4,
   "metadata": {},
   "outputs": [],
   "source": [
    "def return_inter(list1, list2):\n",
    "    return [item for item in list1 if item in list2]\n",
    "\n",
    "list1 = [2, 43, 48, 62, 64, 28, 3]\n",
    "list2 = [1, 28, 42, 70, 2, 10, 62, 31, 4, 14]\n",
    "assert return_inter(list1, list2) == [2, 62, 28]"
   ]
  }
 ],
 "metadata": {
  "kernelspec": {
   "display_name": "venv",
   "language": "python",
   "name": "python3"
  },
  "language_info": {
   "codemirror_mode": {
    "name": "ipython",
    "version": 3
   },
   "file_extension": ".py",
   "mimetype": "text/x-python",
   "name": "python",
   "nbconvert_exporter": "python",
   "pygments_lexer": "ipython3",
   "version": "3.11.6"
  }
 },
 "nbformat": 4,
 "nbformat_minor": 2
}
