{
 "cells": [
  {
   "cell_type": "code",
   "execution_count": 1,
   "id": "initial_id",
   "metadata": {
    "collapsed": true,
    "ExecuteTime": {
     "end_time": "2024-05-21T14:30:15.711968Z",
     "start_time": "2024-05-21T14:30:15.679043Z"
    }
   },
   "outputs": [],
   "source": [
    "class Stack:\n",
    "    def __init__(self):\n",
    "        self.items = []\n",
    "        \n",
    "    def push(self, data):\n",
    "        self.items.append(data)\n",
    "        \n",
    "    def pop(self):\n",
    "        return self.items.pop()\n",
    "    \n",
    "    def size(self):\n",
    "        return len(self.items)\n",
    "    \n",
    "    def is_empty(self):\n",
    "        return len(self.items) == 0\n",
    "    \n",
    "    def peek(self):\n",
    "        return self.items[-1]"
   ]
  },
  {
   "cell_type": "code",
   "outputs": [],
   "source": [
    "class Node:\n",
    "    def __init__(self, data):\n",
    "        self.data = data\n",
    "        self.next = None\n",
    "        \n",
    "        \n",
    "class StackLL:\n",
    "    def __init__(self):\n",
    "        self.head = None\n",
    "        \n",
    "    def push(self, data):\n",
    "        node = Node(data)\n",
    "        if self.head is None:\n",
    "            self.head = node\n",
    "        else:\n",
    "            node.next = self.head\n",
    "            self.head = node\n",
    "            \n",
    "    def pop(self):\n",
    "        if self.head is Node:\n",
    "            raise Exception(\"Stack is empty\")\n",
    "        res = self.head.data\n",
    "        self.head = self.head.next\n",
    "        return res\n",
    "    "
   ],
   "metadata": {
    "collapsed": false,
    "ExecuteTime": {
     "end_time": "2024-05-27T14:08:56.031510Z",
     "start_time": "2024-05-27T14:08:56.030830Z"
    }
   },
   "id": "233b63e3998130eb",
   "execution_count": 2
  },
  {
   "cell_type": "code",
   "outputs": [
    {
     "name": "stdout",
     "output_type": "stream",
     "text": [
      "3\n",
      "2\n",
      "1\n"
     ]
    }
   ],
   "source": [
    "stack = StackLL()\n",
    "\n",
    "stack.push(1)\n",
    "stack.push(2)\n",
    "stack.push(3)\n",
    "\n",
    "for i in range(3):\n",
    "    print(stack.pop())"
   ],
   "metadata": {
    "collapsed": false,
    "ExecuteTime": {
     "end_time": "2024-05-27T14:09:47.672606Z",
     "start_time": "2024-05-27T14:09:47.657801Z"
    }
   },
   "id": "5a7ad28fa4dcfb01",
   "execution_count": 3
  },
  {
   "cell_type": "markdown",
   "source": [
    "### Reverse string in three ways."
   ],
   "metadata": {
    "collapsed": false
   },
   "id": "10d082f8a016be4"
  },
  {
   "cell_type": "code",
   "outputs": [
    {
     "data": {
      "text/plain": "'olleh'"
     },
     "execution_count": 4,
     "metadata": {},
     "output_type": "execute_result"
    }
   ],
   "source": [
    "# 1\n",
    "'hello'[::-1]"
   ],
   "metadata": {
    "collapsed": false,
    "ExecuteTime": {
     "end_time": "2024-05-27T14:15:51.362224Z",
     "start_time": "2024-05-27T14:15:51.284188Z"
    }
   },
   "id": "e6e3fb4c39434b97",
   "execution_count": 4
  },
  {
   "cell_type": "code",
   "outputs": [
    {
     "data": {
      "text/plain": "'olleh'"
     },
     "execution_count": 5,
     "metadata": {},
     "output_type": "execute_result"
    }
   ],
   "source": [
    "# 2\n",
    "''.join(reversed('hello'))"
   ],
   "metadata": {
    "collapsed": false,
    "ExecuteTime": {
     "end_time": "2024-05-27T14:16:16.012044Z",
     "start_time": "2024-05-27T14:16:16.007795Z"
    }
   },
   "id": "a74ebe30e1e5c974",
   "execution_count": 5
  },
  {
   "cell_type": "code",
   "outputs": [
    {
     "name": "stdout",
     "output_type": "stream",
     "text": [
      "olleh\n"
     ]
    }
   ],
   "source": [
    "def reverse_with_stack(string: str) -> str:\n",
    "    stack = []\n",
    "    res = ''\n",
    "    for ch in string:\n",
    "        stack.append(ch)\n",
    "    for _ in string:\n",
    "        res += stack.pop()\n",
    "    return res\n",
    "\n",
    "print(reverse_with_stack('hello'))"
   ],
   "metadata": {
    "collapsed": false,
    "ExecuteTime": {
     "end_time": "2024-05-27T14:47:29.270140Z",
     "start_time": "2024-05-27T14:47:29.266330Z"
    }
   },
   "id": "8f4980a4dd0e7457",
   "execution_count": 7
  },
  {
   "cell_type": "markdown",
   "source": [
    "### Min Stack (we have two stacks: normal and extra with min values)"
   ],
   "metadata": {
    "collapsed": false
   },
   "id": "972c01d674014623"
  },
  {
   "cell_type": "code",
   "outputs": [],
   "source": [
    "class MinStack:\n",
    "    def __init__(self):\n",
    "        self.min_stack = []\n",
    "        self.main_stack = []\n",
    "        \n",
    "    def push(self, data):\n",
    "        if len(self.main_stack) == 0:\n",
    "            self.min_stack.append(data)\n",
    "        elif data <= self.min_stack[-1]:\n",
    "            self.min_stack.append(data)\n",
    "        else:\n",
    "            self.min_stack.append(self.min_stack[-1])  # Just for counting\n",
    "        self.main_stack.append(data)\n",
    "        \n",
    "    def pop(self):\n",
    "        self.min_stack.pop()\n",
    "        return self.main_stack.pop()\n",
    "    \n",
    "    def get_min(self):\n",
    "        return self.min_stack[-1]"
   ],
   "metadata": {
    "collapsed": false,
    "ExecuteTime": {
     "end_time": "2024-05-27T16:07:52.462733Z",
     "start_time": "2024-05-27T16:07:52.458777Z"
    }
   },
   "id": "6b8013ffd7fc3b74",
   "execution_count": 11
  },
  {
   "cell_type": "code",
   "outputs": [
    {
     "name": "stdout",
     "output_type": "stream",
     "text": [
      "[1, 1]\n",
      "[1, 2]\n",
      "1\n"
     ]
    }
   ],
   "source": [
    "min_stack = MinStack()\n",
    "min_stack.push(1)\n",
    "min_stack.push(2)\n",
    "min_stack.push(1)\n",
    "min_stack.pop()\n",
    "print(min_stack.min_stack)\n",
    "print(min_stack.main_stack)\n",
    "print(min_stack.get_min())"
   ],
   "metadata": {
    "collapsed": false,
    "ExecuteTime": {
     "end_time": "2024-05-27T16:08:14.381088Z",
     "start_time": "2024-05-27T16:08:14.378699Z"
    }
   },
   "id": "ae50309d474bac50",
   "execution_count": 13
  },
  {
   "cell_type": "markdown",
   "source": [
    "### Check Parentheses"
   ],
   "metadata": {
    "collapsed": false
   },
   "id": "f4e94245251a20c2"
  },
  {
   "cell_type": "code",
   "outputs": [],
   "source": [
    "def check_parentheses(string: str) -> bool:\n",
    "    stack = []\n",
    "    for ch in string:\n",
    "        if ch == '(':\n",
    "            stack.append(ch)\n",
    "        if ch == \")\":\n",
    "            if len(stack) == 0:\n",
    "                return False\n",
    "            else:\n",
    "                stack.pop()\n",
    "    return len(stack) == 0\n",
    "\n",
    "assert check_parentheses(\"(1 + 2) * (3 + 4)\") == True\n",
    "assert check_parentheses(\"(1 + 2) * (3 + 4\") == False"
   ],
   "metadata": {
    "collapsed": false,
    "ExecuteTime": {
     "end_time": "2024-05-27T16:18:31.690731Z",
     "start_time": "2024-05-27T16:18:31.684732Z"
    }
   },
   "id": "dda8911243488303",
   "execution_count": 16
  }
 ],
 "metadata": {
  "kernelspec": {
   "display_name": "Python 3",
   "language": "python",
   "name": "python3"
  },
  "language_info": {
   "codemirror_mode": {
    "name": "ipython",
    "version": 2
   },
   "file_extension": ".py",
   "mimetype": "text/x-python",
   "name": "python",
   "nbconvert_exporter": "python",
   "pygments_lexer": "ipython2",
   "version": "2.7.6"
  }
 },
 "nbformat": 4,
 "nbformat_minor": 5
}
