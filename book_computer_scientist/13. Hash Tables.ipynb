{
 "cells": [
  {
   "cell_type": "markdown",
   "source": [
    "### Characters in a String"
   ],
   "metadata": {
    "collapsed": false
   },
   "id": "b00851dcf30d29d7"
  },
  {
   "cell_type": "code",
   "outputs": [],
   "source": [
    "def count(string: str) -> dict:\n",
    "    res = {}\n",
    "    for char in string.lower():\n",
    "        if char not in res:\n",
    "            res[char] = 1\n",
    "        else:\n",
    "            res[char] += 1\n",
    "    return res\n",
    "\n",
    "assert count('abc') == {'a': 1, 'b': 1, 'c': 1}"
   ],
   "metadata": {
    "collapsed": false,
    "ExecuteTime": {
     "end_time": "2024-05-31T09:56:50.338762Z",
     "start_time": "2024-05-31T09:56:50.334516Z"
    }
   },
   "id": "226fe0420aabcbb4",
   "execution_count": 1
  },
  {
   "cell_type": "code",
   "outputs": [],
   "source": [
    "from collections import Counter\n",
    "\n",
    "assert Counter('abc') == {'a': 1, 'b': 1, 'c': 1}"
   ],
   "metadata": {
    "collapsed": false,
    "ExecuteTime": {
     "end_time": "2024-05-31T09:57:47.896467Z",
     "start_time": "2024-05-31T09:57:47.894631Z"
    }
   },
   "id": "d93fa0446707f4a4",
   "execution_count": 2
  },
  {
   "cell_type": "markdown",
   "source": [
    "### Two Sum"
   ],
   "metadata": {
    "collapsed": false
   },
   "id": "8efbd3f1557d06d7"
  },
  {
   "cell_type": "code",
   "outputs": [],
   "source": [
    "def two_sum_brute(nums: list, target: int):\n",
    "    for i in range(len(nums)):\n",
    "        for j in range(i + 1, len(nums)):\n",
    "            if nums[i] + nums[j] == target:\n",
    "                return [i, j]\n",
    "            \n",
    "assert two_sum_brute([2, 7, 11, 15], 22) == [1, 3]"
   ],
   "metadata": {
    "collapsed": false,
    "ExecuteTime": {
     "end_time": "2024-05-31T10:11:03.761118Z",
     "start_time": "2024-05-31T10:11:03.751190Z"
    }
   },
   "id": "33c0a400027df343",
   "execution_count": 4
  },
  {
   "cell_type": "code",
   "outputs": [],
   "source": [
    "def two_sum(nums, target):\n",
    "    temp = {}\n",
    "    for index, item in enumerate(nums):\n",
    "        rem = target - item\n",
    "        if rem in temp:\n",
    "            return [temp[rem], index]\n",
    "        else:\n",
    "            temp[item] = index\n",
    "            \n",
    "assert two_sum([2, 7, 11, 15], 22) == [1, 3]"
   ],
   "metadata": {
    "collapsed": false,
    "ExecuteTime": {
     "end_time": "2024-05-31T10:31:34.754372Z",
     "start_time": "2024-05-31T10:31:34.746523Z"
    }
   },
   "id": "2af12cf60ba91dda",
   "execution_count": 6
  }
 ],
 "metadata": {
  "kernelspec": {
   "display_name": "Python 3",
   "language": "python",
   "name": "python3"
  },
  "language_info": {
   "codemirror_mode": {
    "name": "ipython",
    "version": 2
   },
   "file_extension": ".py",
   "mimetype": "text/x-python",
   "name": "python",
   "nbconvert_exporter": "python",
   "pygments_lexer": "ipython2",
   "version": "2.7.6"
  }
 },
 "nbformat": 4,
 "nbformat_minor": 5
}
