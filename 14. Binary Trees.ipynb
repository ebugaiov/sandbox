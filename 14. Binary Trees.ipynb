{
 "cells": [
  {
   "cell_type": "code",
   "execution_count": 2,
   "id": "initial_id",
   "metadata": {
    "collapsed": true,
    "ExecuteTime": {
     "end_time": "2024-06-08T16:43:15.241454Z",
     "start_time": "2024-06-08T16:43:15.234630Z"
    }
   },
   "outputs": [],
   "source": [
    "class BinaryTree:\n",
    "    def __init__(self, value):\n",
    "        self.value = value\n",
    "        self.left_child = None\n",
    "        self.right_child = None\n",
    "        \n",
    "    def insert_left(self, value):\n",
    "        if self.left_child is None:\n",
    "            self.left_child = BinaryTree(value)\n",
    "        else:\n",
    "            bin_tree = BinaryTree(value)\n",
    "            bin_tree.left_child = self.left_child\n",
    "            self.left_child = bin_tree\n",
    "            \n",
    "    def insert_right(self, value):\n",
    "        if self.right_child is None:\n",
    "            self.right_child = BinaryTree(value)\n",
    "        else:\n",
    "            bin_tree = BinaryTree(value)\n",
    "            bin_tree.right_child = self.right_child\n",
    "            self.right_child = bin_tree\n",
    "            \n",
    "    def breadth_first_search(self, n):\n",
    "        current = [self]\n",
    "        next = []\n",
    "        while current:\n",
    "            for node in current:\n",
    "                if node.value == n:\n",
    "                    return True\n",
    "                if node.left_child:\n",
    "                    next.append(node.left_child)\n",
    "                if node.right_child:\n",
    "                    next.append(node.right_child)\n",
    "            current = next\n",
    "            next = []\n",
    "        return False\n",
    "    \n",
    "    def invert(self):\n",
    "        current = [self]\n",
    "        next = []\n",
    "        while current:\n",
    "            for node in current:\n",
    "                if node.left_child:\n",
    "                    next.append(node.left_child)\n",
    "                if node.right_child:\n",
    "                    next.append(node.right_child)\n",
    "                tmp = node.left_child\n",
    "                node.left_child = node.right_child\n",
    "                node.right_child = tmp\n",
    "            current = next\n",
    "            next = []\n",
    "                "
   ]
  },
  {
   "cell_type": "code",
   "outputs": [],
   "source": [
    "tree = BinaryTree(1)\n",
    "tree.insert_left(2)\n",
    "tree.insert_left(3)\n",
    "tree.insert_right(4)"
   ],
   "metadata": {
    "collapsed": false,
    "ExecuteTime": {
     "end_time": "2024-06-08T16:43:16.439271Z",
     "start_time": "2024-06-08T16:43:16.434976Z"
    }
   },
   "id": "a16f696970b4ac3a",
   "execution_count": 3
  },
  {
   "cell_type": "code",
   "outputs": [
    {
     "data": {
      "text/plain": "True"
     },
     "execution_count": 4,
     "metadata": {},
     "output_type": "execute_result"
    }
   ],
   "source": [
    "tree.breadth_first_search(3)"
   ],
   "metadata": {
    "collapsed": false,
    "ExecuteTime": {
     "end_time": "2024-06-08T16:43:17.451333Z",
     "start_time": "2024-06-08T16:43:17.446837Z"
    }
   },
   "id": "8cc669479d0dd191",
   "execution_count": 4
  },
  {
   "cell_type": "code",
   "outputs": [],
   "source": [
    "def preorder(tree):\n",
    "    if tree:\n",
    "        print(tree.value)\n",
    "        preorder(tree.left_child)\n",
    "        preorder(tree.right_child)"
   ],
   "metadata": {
    "collapsed": false,
    "ExecuteTime": {
     "end_time": "2024-06-08T16:44:12.102373Z",
     "start_time": "2024-06-08T16:44:12.086442Z"
    }
   },
   "id": "686888b5e8dd9045",
   "execution_count": 5
  },
  {
   "cell_type": "code",
   "outputs": [
    {
     "name": "stdout",
     "output_type": "stream",
     "text": [
      "1\n",
      "3\n",
      "2\n",
      "4\n"
     ]
    }
   ],
   "source": [
    "preorder(tree)"
   ],
   "metadata": {
    "collapsed": false,
    "ExecuteTime": {
     "end_time": "2024-06-08T16:44:23.100815Z",
     "start_time": "2024-06-08T16:44:23.085799Z"
    }
   },
   "id": "31906bcc48b6c31a",
   "execution_count": 6
  }
 ],
 "metadata": {
  "kernelspec": {
   "display_name": "Python 3",
   "language": "python",
   "name": "python3"
  },
  "language_info": {
   "codemirror_mode": {
    "name": "ipython",
    "version": 2
   },
   "file_extension": ".py",
   "mimetype": "text/x-python",
   "name": "python",
   "nbconvert_exporter": "python",
   "pygments_lexer": "ipython2",
   "version": "2.7.6"
  }
 },
 "nbformat": 4,
 "nbformat_minor": 5
}
