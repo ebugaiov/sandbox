{
 "cells": [
  {
   "cell_type": "markdown",
   "metadata": {},
   "source": [
    "### 26. Remove Duplicates from Sorted Array.\n",
    "Given an integer array nums sorted in non-decreasing order, remove the duplicates in-place such that each unique element appears only once. The relative order of the elements should be kept the same. Then return the number of unique elements in nums.\n",
    "\n",
    "Consider the number of unique elements of nums to be k, to get accepted, you need to do the following things:\n",
    "\n",
    "Change the array nums such that the first k elements of nums contain the unique elements in the order they were present in nums initially. The remaining elements of nums are not important as well as the size of nums.\n",
    "Return k.\n",
    "\n",
    "LeetCode: https://leetcode.com/problems/remove-duplicates-from-sorted-array/description/\n",
    "\n",
    "YouTube: https://www.youtube.com/watch?v=DEJAZBq0FDA"
   ]
  },
  {
   "cell_type": "code",
   "execution_count": 8,
   "metadata": {},
   "outputs": [
    {
     "name": "stdout",
     "output_type": "stream",
     "text": [
      "[1, 2, 2]\n",
      "[0, 1, 2, 3, 4, 2, 2, 3, 3, 4]\n"
     ]
    }
   ],
   "source": [
    "def remove_duplicates(nums: list[int]) -> int:\n",
    "    l = 1\n",
    "    for r in range(1, len(nums)):\n",
    "        if nums[r] != nums[r - 1]:\n",
    "            nums[l] = nums[r]\n",
    "            l += 1\n",
    "    return l\n",
    "\n",
    "nums = [1, 1, 2]\n",
    "assert remove_duplicates(nums) == 2\n",
    "print(nums)\n",
    "\n",
    "nums = [0,0,1,1,1,2,2,3,3,4]\n",
    "assert remove_duplicates(nums) == 5\n",
    "print(nums)"
   ]
  },
  {
   "cell_type": "markdown",
   "metadata": {},
   "source": [
    "### 27. Remove Element.\n",
    "Given an integer array nums and an integer val, remove all occurrences of val in nums in-place. The order of the elements may be changed. Then return the number of elements in nums which are not equal to val.\n",
    "\n",
    "Consider the number of elements in nums which are not equal to val be k, to get accepted, you need to do the following things:\n",
    "\n",
    "Change the array nums such that the first k elements of nums contain the elements which are not equal to val. The remaining elements of nums are not important as well as the size of nums.\n",
    "Return k.\n",
    "\n",
    "LeetCode: https://leetcode.com/problems/remove-element/description/\n",
    "\n",
    "YouTube: https://www.youtube.com/watch?v=Pcd1ii9P9ZI"
   ]
  },
  {
   "cell_type": "code",
   "execution_count": 1,
   "metadata": {},
   "outputs": [
    {
     "name": "stdout",
     "output_type": "stream",
     "text": [
      "[2, 2, 2, 3]\n"
     ]
    }
   ],
   "source": [
    "def remove_element(nums: list[int], val: int) -> int:\n",
    "    k = 0\n",
    "    for i in range(len(nums)):\n",
    "        if nums[i] != val:\n",
    "            nums[k] = nums[i]\n",
    "            k += 1\n",
    "    return k\n",
    "\n",
    "nums = [3,2,2,3]\n",
    "val = 3\n",
    "assert remove_element(nums, val) == 2\n",
    "print(nums)"
   ]
  },
  {
   "cell_type": "markdown",
   "metadata": {},
   "source": [
    "### 1470. Shuffle the Array.\n",
    "Given the array nums consisting of 2n elements in the form [x1,x2,...,xn,y1,y2,...,yn].\n",
    "\n",
    "Return the array in the form [x1,y1,x2,y2,...,xn,yn].\n",
    "\n",
    "LeetCode: https://leetcode.com/problems/shuffle-the-array/description/\n",
    "\n",
    "YouTube: https://www.youtube.com/watch?v=IvIKD_EU8BY"
   ]
  },
  {
   "cell_type": "code",
   "execution_count": 4,
   "metadata": {},
   "outputs": [],
   "source": [
    "def shuffle(nums: list[int], n: int) -> list[int]:\n",
    "    res = []\n",
    "    for i in range(n):\n",
    "        res.append(nums[i])\n",
    "        res.append(nums[i + n])\n",
    "    return res\n",
    "\n",
    "nums = [2,5,1,3,4,7]\n",
    "n = 3\n",
    "assert shuffle(nums, n) == [2,3,5,4,1,7]"
   ]
  }
 ],
 "metadata": {
  "kernelspec": {
   "display_name": "venv",
   "language": "python",
   "name": "python3"
  },
  "language_info": {
   "codemirror_mode": {
    "name": "ipython",
    "version": 3
   },
   "file_extension": ".py",
   "mimetype": "text/x-python",
   "name": "python",
   "nbconvert_exporter": "python",
   "pygments_lexer": "ipython3",
   "version": "3.11.8"
  }
 },
 "nbformat": 4,
 "nbformat_minor": 2
}
