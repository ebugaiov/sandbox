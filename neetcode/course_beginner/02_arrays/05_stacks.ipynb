{
 "cells": [
  {
   "cell_type": "markdown",
   "metadata": {},
   "source": [
    "### 682. Baseball Game.\n",
    "You are given a list of strings operations, where operations[i] is the ith operation you must apply to the record and is one of the following:\n",
    "\n",
    "An integer x.\n",
    "Record a new score of x.\n",
    "'+'.\n",
    "Record a new score that is the sum of the previous two scores.\n",
    "'D'.\n",
    "Record a new score that is the double of the previous score.\n",
    "'C'.\n",
    "Invalidate the previous score, removing it from the record.\n",
    "Return the sum of all the scores on the record after applying all the operations.\n",
    "\n",
    "The test cases are generated such that the answer and all intermediate calculations fit in a 32-bit integer and that all operations are valid.\n",
    "\n",
    "LeetCode: https://leetcode.com/problems/baseball-game/description/\n",
    "\n",
    "YouTube: https://www.youtube.com/watch?v=Id_tqGdsZQI"
   ]
  },
  {
   "cell_type": "code",
   "execution_count": 22,
   "metadata": {},
   "outputs": [],
   "source": [
    "def cal_points(operations: list[str]) -> int:\n",
    "    stack = []\n",
    "    for op in operations:\n",
    "        if op == '+':\n",
    "            stack.append(stack[-1] + stack[-2])\n",
    "        elif op == 'C':\n",
    "            stack.pop()\n",
    "        elif op == 'D':\n",
    "            stack.append(stack[-1] * 2)\n",
    "        else:\n",
    "            stack.append(int(op))\n",
    "    return sum(stack)\n",
    "\n",
    "ops = [\"5\",\"2\",\"C\",\"D\",\"+\"]\n",
    "assert cal_points(ops) == 30\n",
    "\n",
    "ops = [\"5\",\"-2\",\"4\",\"C\",\"D\",\"9\",\"+\",\"+\"]\n",
    "assert cal_points(ops) == 27"
   ]
  },
  {
   "cell_type": "markdown",
   "metadata": {},
   "source": [
    "### 20. Valid Parentheses.\n",
    "Given a string s containing just the characters '(', ')', '{', '}', '[' and ']', determine if the input string is valid.\n",
    "\n",
    "An input string is valid if:\n",
    "\n",
    "Open brackets must be closed by the same type of brackets.\n",
    "Open brackets must be closed in the correct order.\n",
    "Every close bracket has a corresponding open bracket of the same type.\n",
    "\n",
    "LeetCode: https://leetcode.com/problems/valid-parentheses/description/\n",
    "\n",
    "YouTube: https://www.youtube.com/watch?v=WTzjTskDFMg"
   ]
  },
  {
   "cell_type": "code",
   "execution_count": 27,
   "metadata": {},
   "outputs": [],
   "source": [
    "def is_valid(s: str) -> bool:\n",
    "    stack = []\n",
    "    close_to_open = {')': '(', ']': '[', '}': '{'}\n",
    "    for ch in s:\n",
    "        if ch in close_to_open:\n",
    "            if stack and stack[-1] == close_to_open[ch]:\n",
    "                stack.pop()\n",
    "            else:\n",
    "                return False\n",
    "        else:\n",
    "            stack.append(ch)\n",
    "    return True if not stack else False\n",
    "\n",
    "s = \"()\"\n",
    "assert is_valid(s) == True\n",
    "\n",
    "s = \"()[]{}\"\n",
    "assert is_valid(s) == True\n",
    "\n",
    "s = \"[\"\n",
    "assert is_valid(s) == False"
   ]
  },
  {
   "cell_type": "markdown",
   "metadata": {},
   "source": [
    "### 155. Min Stack.\n",
    "Design a stack that supports push, pop, top, and retrieving the minimum element in constant time.\n",
    "\n",
    "Implement the MinStack class:\n",
    "\n",
    "MinStack() initializes the stack object.\n",
    "void push(int val) pushes the element val onto the stack.\n",
    "void pop() removes the element on the top of the stack.\n",
    "int top() gets the top element of the stack.\n",
    "int getMin() retrieves the minimum element in the stack.\n",
    "You must implement a solution with O(1) time complexity for each function.\n",
    "\n",
    "LeetCode: https://leetcode.com/problems/min-stack/description/\n",
    "\n",
    "YouTube: https://www.youtube.com/watch?v=qkLl7nAwDPo"
   ]
  },
  {
   "cell_type": "code",
   "execution_count": 33,
   "metadata": {},
   "outputs": [
    {
     "name": "stdout",
     "output_type": "stream",
     "text": [
      "Stack: []. Min Values: []\n",
      "Stack: [-2]. Min Values: [-2]\n",
      "Stack: [-2, 0]. Min Values: [-2, -2]\n",
      "Stack: [-2, 0, -3]. Min Values: [-2, -2, -3]\n",
      "Stack: [-2, 0]. Min Values: [-2, -2]\n"
     ]
    }
   ],
   "source": [
    "class MinStack:\n",
    "    def __init__(self):\n",
    "        self._stack = []\n",
    "        self._min_values = []\n",
    "\n",
    "    def __repr__(self):\n",
    "        return f'Stack: {self._stack}. Min Values: {self._min_values}'\n",
    "\n",
    "    def push(self, val: int) -> None:\n",
    "        self._stack.append(val)\n",
    "        val = min(val, self._min_values[-1] if self._min_values else val)\n",
    "        self._min_values.append(val)\n",
    "    \n",
    "    def pop(self) -> None:\n",
    "        self._stack.pop()\n",
    "        self._min_values.pop()\n",
    "\n",
    "    def top(self) -> int:\n",
    "        return self._stack[-1]\n",
    "    \n",
    "    def getMin(self) -> int:\n",
    "        return self._min_values[-1]\n",
    "\n",
    "min_stack = MinStack()\n",
    "print(min_stack)\n",
    "min_stack.push(-2)\n",
    "print(min_stack)\n",
    "min_stack.push(0)\n",
    "print(min_stack)\n",
    "min_stack.push(-3)\n",
    "print(min_stack)\n",
    "assert min_stack.getMin() == -3\n",
    "min_stack.pop()\n",
    "print(min_stack)\n",
    "assert min_stack.top() == 0\n",
    "assert min_stack.getMin() == -2"
   ]
  }
 ],
 "metadata": {
  "kernelspec": {
   "display_name": "venv",
   "language": "python",
   "name": "python3"
  },
  "language_info": {
   "codemirror_mode": {
    "name": "ipython",
    "version": 3
   },
   "file_extension": ".py",
   "mimetype": "text/x-python",
   "name": "python",
   "nbconvert_exporter": "python",
   "pygments_lexer": "ipython3",
   "version": "3.11.6"
  }
 },
 "nbformat": 4,
 "nbformat_minor": 2
}
