{
 "cells": [
  {
   "cell_type": "markdown",
   "metadata": {},
   "source": [
    "### 1929. Concatenation of Array.\n",
    "Given an integer array nums of length n, you want to create an array ans of length 2n where ans[i] == nums[i] and ans[i + n] == nums[i] for 0 <= i < n (0-indexed).\n",
    "\n",
    "Specifically, ans is the concatenation of two nums arrays.\n",
    "\n",
    "Return the array ans.\n",
    "\n",
    "LeetCode: https://leetcode.com/problems/concatenation-of-array/description/\n",
    "YouTube: https://www.youtube.com/watch?v=68isPRHgcFQ"
   ]
  },
  {
   "cell_type": "code",
   "execution_count": 1,
   "metadata": {},
   "outputs": [],
   "source": [
    "def get_concatenation(nums: list[int], n: int = 2) -> list[int]:\n",
    "    res = [] \n",
    "\n",
    "    for i in range(n):\n",
    "        for num in nums:\n",
    "            res.append(num)\n",
    "    return res\n",
    "\n",
    "nums = [1,2,1]\n",
    "assert get_concatenation(nums) == [1, 2, 1, 1, 2, 1]"
   ]
  }
 ],
 "metadata": {
  "kernelspec": {
   "display_name": "venv",
   "language": "python",
   "name": "python3"
  },
  "language_info": {
   "codemirror_mode": {
    "name": "ipython",
    "version": 3
   },
   "file_extension": ".py",
   "mimetype": "text/x-python",
   "name": "python",
   "nbconvert_exporter": "python",
   "pygments_lexer": "ipython3",
   "version": "3.11.6"
  }
 },
 "nbformat": 4,
 "nbformat_minor": 2
}
