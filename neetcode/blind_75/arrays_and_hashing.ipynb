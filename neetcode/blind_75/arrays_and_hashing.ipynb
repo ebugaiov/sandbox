{
 "cells": [
  {
   "cell_type": "markdown",
   "metadata": {},
   "source": [
    "### Contains dublicate.\n",
    "Given an integer array nums, return true if any value appears more than once in the array, otherwise return false."
   ]
  },
  {
   "cell_type": "code",
   "execution_count": 2,
   "metadata": {},
   "outputs": [],
   "source": [
    "def has_dublicate(arr: list[int]) -> bool:\n",
    "    storage = set()\n",
    "    for item in arr:\n",
    "        if item in storage:\n",
    "            return True\n",
    "        storage.add(item)\n",
    "    return False\n",
    "\n",
    "nums = [1, 2, 3, 3]\n",
    "assert has_dublicate(nums) == True\n",
    "nums = [1, 2, 3]\n",
    "assert has_dublicate(nums) == False"
   ]
  },
  {
   "cell_type": "markdown",
   "metadata": {},
   "source": [
    "### Is Anagram.\n",
    "Given two strings s and t, return true if the two strings are anagrams of each other, otherwise return false.\n",
    "\n",
    "An anagram is a string that contains the exact same characters as another string, but the order of the characters can be different."
   ]
  },
  {
   "cell_type": "code",
   "execution_count": 1,
   "metadata": {},
   "outputs": [],
   "source": [
    "def is_anagram(s: str, t: str) -> bool:\n",
    "    if len(s) != len(t):\n",
    "        return False\n",
    "    s_counter, t_counter = {}, {}\n",
    "    for i in range(len(s)):\n",
    "        s_counter[s[i]] = 1 + s_counter.get(s[i], 0)\n",
    "        t_counter[t[i]] = 1 + t_counter.get(t[i], 0)\n",
    "    return s_counter == t_counter\n",
    "\n",
    "s = \"racecar\"\n",
    "t = \"carrace\"\n",
    "assert is_anagram(s, t) == True"
   ]
  },
  {
   "cell_type": "markdown",
   "metadata": {},
   "source": [
    "### Two Sum.\n",
    "Given an array of integers nums and an integer target, return the indices i and j such that nums[i] + nums[j] == target and i != j.\n",
    "\n",
    "You may assume that every input has exactly one pair of indices i and j that satisfy the condition.\n",
    "\n",
    "Return the answer with the smaller index first."
   ]
  },
  {
   "cell_type": "code",
   "execution_count": 6,
   "metadata": {},
   "outputs": [],
   "source": [
    "def two_sum(arr: list[int], target: int) -> list[int]:\n",
    "    storage = {}\n",
    "    for i, n in enumerate(arr):\n",
    "        diff = target - n\n",
    "        if diff in storage:\n",
    "            return [storage[diff], i]\n",
    "        storage[n] = i\n",
    "\n",
    "nums = [3,4,5,6]\n",
    "target = 7\n",
    "assert two_sum(nums, target) == [0, 1]"
   ]
  },
  {
   "cell_type": "markdown",
   "metadata": {},
   "source": [
    "### Anagram Groups.\n",
    "Given an array of strings strs, group all anagrams together into sublists. You may return the output in any order.\n",
    "\n",
    "An anagram is a string that contains the exact same characters as another string, but the order of the characters can be different."
   ]
  },
  {
   "cell_type": "code",
   "execution_count": 7,
   "metadata": {},
   "outputs": [
    {
     "name": "stdout",
     "output_type": "stream",
     "text": [
      "[['act', 'cat'], ['pots', 'tops', 'stop'], ['hat']]\n"
     ]
    }
   ],
   "source": [
    "from collections import defaultdict\n",
    "\n",
    "def group_anagrams(strs: list[str]) -> list[list[str]]:\n",
    "    res = defaultdict(list)\n",
    "    for word in strs:\n",
    "        key = ''.join(sorted(word))\n",
    "        res[key].append(word)\n",
    "    return list(res.values())\n",
    "\n",
    "strs = [\"act\",\"pots\",\"tops\",\"cat\",\"stop\",\"hat\"]\n",
    "assert group_anagrams(strs) == [['act', 'cat'], ['pots', 'tops', 'stop'], ['hat']]"
   ]
  },
  {
   "cell_type": "code",
   "execution_count": 4,
   "metadata": {},
   "outputs": [
    {
     "data": {
      "text/plain": [
       "dict_values([['act', 'cat'], ['pots', 'tops', 'stop'], ['hat']])"
      ]
     },
     "execution_count": 4,
     "metadata": {},
     "output_type": "execute_result"
    }
   ],
   "source": [
    "from collections import defaultdict\n",
    "\n",
    "def group_anagrams(strs: list[str]) -> list[list[str]]:\n",
    "    res = defaultdict(list)\n",
    "    for s in strs:\n",
    "        counter = [0] * 26\n",
    "        for ch in s:\n",
    "            counter[ord(ch) - ord('a')] += 1\n",
    "        res[tuple(counter)].append(s)\n",
    "    return res.values()\n",
    "\n",
    "strs = [\"act\",\"pots\",\"tops\",\"cat\",\"stop\",\"hat\"]\n",
    "group_anagrams(strs)"
   ]
  },
  {
   "cell_type": "markdown",
   "metadata": {},
   "source": [
    "### Top K elements in list.\n",
    "Given an integer array nums and an integer k, return the k most frequent elements within the array.\n",
    "\n",
    "The test cases are generated such that the answer is always unique.\n",
    "\n",
    "You may return the output in any order."
   ]
  },
  {
   "cell_type": "code",
   "execution_count": 7,
   "metadata": {},
   "outputs": [],
   "source": [
    "from collections import defaultdict\n",
    "\n",
    "def top_k_frequent(nums: list[int], k: int) -> list[int]:\n",
    "    counter = {}\n",
    "    freq = [[] for i in range(len(nums) + 1)]\n",
    "    res = []\n",
    "\n",
    "    for num in nums:\n",
    "        counter[num] = 1 + counter.get(num, 0)\n",
    "    \n",
    "    for num, count in counter.items():\n",
    "        freq[count].append(num)\n",
    "\n",
    "    for i in range(len(freq) - 1, 0, -1):\n",
    "        for num in freq[i]:\n",
    "            res.append(num)\n",
    "            if len(res) == k:\n",
    "                return res\n",
    "\n",
    "nums = [4, 5, 6, 7, 8, 6, 7, 7, 8, 8]\n",
    "k = 3\n",
    "assert top_k_frequent(nums, k) == [7, 8, 6]\n",
    "\n",
    "nums = [7, 7]\n",
    "k = 1\n",
    "assert top_k_frequent(nums, k) == [7]"
   ]
  }
 ],
 "metadata": {
  "kernelspec": {
   "display_name": "venv",
   "language": "python",
   "name": "python3"
  },
  "language_info": {
   "codemirror_mode": {
    "name": "ipython",
    "version": 3
   },
   "file_extension": ".py",
   "mimetype": "text/x-python",
   "name": "python",
   "nbconvert_exporter": "python",
   "pygments_lexer": "ipython3",
   "version": "3.11.8"
  }
 },
 "nbformat": 4,
 "nbformat_minor": 2
}
