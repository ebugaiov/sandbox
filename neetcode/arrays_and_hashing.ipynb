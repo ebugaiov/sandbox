{
 "cells": [
  {
   "cell_type": "markdown",
   "metadata": {},
   "source": [
    "### Contains dublicate.\n",
    "Given an integer array nums, return true if any value appears more than once in the array, otherwise return false."
   ]
  },
  {
   "cell_type": "code",
   "execution_count": 2,
   "metadata": {},
   "outputs": [],
   "source": [
    "def has_dublicate(arr: list[int]) -> bool:\n",
    "    storage = set()\n",
    "    for item in arr:\n",
    "        if item in storage:\n",
    "            return True\n",
    "        storage.add(item)\n",
    "    return False\n",
    "\n",
    "nums = [1, 2, 3, 3]\n",
    "assert has_dublicate(nums) == True\n",
    "nums = [1, 2, 3]\n",
    "assert has_dublicate(nums) == False"
   ]
  },
  {
   "cell_type": "markdown",
   "metadata": {},
   "source": [
    "### Is Anagram.\n",
    "Given two strings s and t, return true if the two strings are anagrams of each other, otherwise return false.\n",
    "\n",
    "An anagram is a string that contains the exact same characters as another string, but the order of the characters can be different."
   ]
  },
  {
   "cell_type": "code",
   "execution_count": 1,
   "metadata": {},
   "outputs": [],
   "source": [
    "def is_anagram(s: str, t: str) -> bool:\n",
    "    if len(s) != len(t):\n",
    "        return False\n",
    "    s_counter, t_counter = {}, {}\n",
    "    for i in range(len(s)):\n",
    "        s_counter[s[i]] = 1 + s_counter.get(s[i], 0)\n",
    "        t_counter[t[i]] = 1 + t_counter.get(t[i], 0)\n",
    "    return s_counter == t_counter\n",
    "\n",
    "s = \"racecar\"\n",
    "t = \"carrace\"\n",
    "assert is_anagram(s, t) == True"
   ]
  },
  {
   "cell_type": "markdown",
   "metadata": {},
   "source": [
    "### Two Sum.\n",
    "Given an array of integers nums and an integer target, return the indices i and j such that nums[i] + nums[j] == target and i != j.\n",
    "\n",
    "You may assume that every input has exactly one pair of indices i and j that satisfy the condition.\n",
    "\n",
    "Return the answer with the smaller index first."
   ]
  },
  {
   "cell_type": "code",
   "execution_count": 6,
   "metadata": {},
   "outputs": [],
   "source": [
    "def two_sum(arr: list[int], target: int) -> list[int]:\n",
    "    storage = {}\n",
    "    for i, n in enumerate(arr):\n",
    "        diff = target - n\n",
    "        if diff in storage:\n",
    "            return [storage[diff], i]\n",
    "        storage[n] = i\n",
    "\n",
    "nums = [3,4,5,6]\n",
    "target = 7\n",
    "assert two_sum(nums, target) == [0, 1]"
   ]
  }
 ],
 "metadata": {
  "kernelspec": {
   "display_name": "venv",
   "language": "python",
   "name": "python3"
  },
  "language_info": {
   "codemirror_mode": {
    "name": "ipython",
    "version": 3
   },
   "file_extension": ".py",
   "mimetype": "text/x-python",
   "name": "python",
   "nbconvert_exporter": "python",
   "pygments_lexer": "ipython3",
   "version": "3.11.8"
  }
 },
 "nbformat": 4,
 "nbformat_minor": 2
}
